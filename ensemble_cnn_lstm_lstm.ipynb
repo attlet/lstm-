{
  "cells": [
    {
      "cell_type": "code",
      "execution_count": null,
      "metadata": {
        "colab": {
          "base_uri": "https://localhost:8080/"
        },
        "id": "4oUdSbpzPPzp",
        "outputId": "ed2b3b38-3f98-46d2-f6db-90de1c9f5095"
      },
      "outputs": [
        {
          "output_type": "stream",
          "name": "stdout",
          "text": [
            "Collecting git+https://github.com/tensorflow/docs\n",
            "  Cloning https://github.com/tensorflow/docs to /tmp/pip-req-build-5tj9ehjj\n",
            "  Running command git clone -q https://github.com/tensorflow/docs /tmp/pip-req-build-5tj9ehjj\n",
            "Requirement already satisfied: astor in /usr/local/lib/python3.7/dist-packages (from tensorflow-docs==0.0.0.dev0) (0.8.1)\n",
            "Requirement already satisfied: absl-py in /usr/local/lib/python3.7/dist-packages (from tensorflow-docs==0.0.0.dev0) (0.12.0)\n",
            "Requirement already satisfied: jinja2 in /usr/local/lib/python3.7/dist-packages (from tensorflow-docs==0.0.0.dev0) (2.11.3)\n",
            "Requirement already satisfied: protobuf>=3.14 in /usr/local/lib/python3.7/dist-packages (from tensorflow-docs==0.0.0.dev0) (3.17.3)\n",
            "Requirement already satisfied: pyyaml in /usr/local/lib/python3.7/dist-packages (from tensorflow-docs==0.0.0.dev0) (3.13)\n",
            "Requirement already satisfied: six>=1.9 in /usr/local/lib/python3.7/dist-packages (from protobuf>=3.14->tensorflow-docs==0.0.0.dev0) (1.15.0)\n",
            "Requirement already satisfied: MarkupSafe>=0.23 in /usr/local/lib/python3.7/dist-packages (from jinja2->tensorflow-docs==0.0.0.dev0) (2.0.1)\n",
            "Building wheels for collected packages: tensorflow-docs\n",
            "  Building wheel for tensorflow-docs (setup.py) ... \u001b[?25l\u001b[?25hdone\n",
            "  Created wheel for tensorflow-docs: filename=tensorflow_docs-0.0.0.dev0-py3-none-any.whl size=173445 sha256=f73b628b808eb452803ec08852d3b76efc21055c8237dcbf9c0d672773c66f61\n",
            "  Stored in directory: /tmp/pip-ephem-wheel-cache-kbuzmijc/wheels/cc/c4/d8/5341e93b6376c5c929c49469fce21155eb69cef1a4da4ce32c\n",
            "Successfully built tensorflow-docs\n",
            "Installing collected packages: tensorflow-docs\n",
            "Successfully installed tensorflow-docs-0.0.0.dev0\n"
          ]
        }
      ],
      "source": [
        "!pip install git+https://github.com/tensorflow/docs"
      ]
    },
    {
      "cell_type": "code",
      "execution_count": null,
      "metadata": {
        "id": "h7giqK6SQyXx"
      },
      "outputs": [],
      "source": [
        ""
      ]
    },
    {
      "cell_type": "code",
      "execution_count": null,
      "metadata": {
        "id": "j-4pejXlCeOw"
      },
      "outputs": [],
      "source": [
        "import matplotlib.pyplot as plt\n",
        "import numpy as np\n",
        "import pandas as pd\n",
        "import seaborn as sns\n",
        "import tensorflow as tf"
      ]
    },
    {
      "cell_type": "code",
      "execution_count": null,
      "metadata": {
        "id": "WzY9nDlMCeOx"
      },
      "outputs": [],
      "source": [
        "from sklearn.decomposition import PCA\n",
        "from sklearn import metrics"
      ]
    },
    {
      "cell_type": "code",
      "execution_count": null,
      "metadata": {
        "id": "zYU_9VwtCeOy"
      },
      "outputs": [],
      "source": [
        "from tensorflow import keras\n",
        "from tensorflow.keras import layers\n",
        "import tensorflow_docs as tfdocs\n",
        "import tensorflow_docs.plots\n",
        "import tensorflow_docs.modeling"
      ]
    },
    {
      "cell_type": "code",
      "execution_count": null,
      "metadata": {
        "id": "ZKfeDgiaCeOy"
      },
      "outputs": [],
      "source": [
        "from tensorflow.keras.models import Sequential\n",
        "from tensorflow.keras.layers import Dense\n",
        "from tensorflow.keras.layers import Flatten\n",
        "from tensorflow.keras.layers import Dropout\n",
        "from tensorflow.keras.layers import LSTM\n",
        "from tensorflow.keras.layers import GRU\n",
        "from tensorflow.keras.layers import Bidirectional\n",
        "from tensorflow.keras.layers import TimeDistributed\n",
        "from tensorflow.keras.layers import Conv1D\n",
        "from tensorflow.keras.layers import MaxPooling1D"
      ]
    },
    {
      "cell_type": "code",
      "execution_count": null,
      "metadata": {
        "id": "XMx_luGlCeOy"
      },
      "outputs": [],
      "source": [
        "from sklearn.utils import resample\n",
        "from matplotlib import pyplot\n",
        "from numpy import mean\n",
        "from numpy import std\n",
        "from numpy import array"
      ]
    },
    {
      "cell_type": "code",
      "execution_count": null,
      "metadata": {
        "id": "P9pc_r1gCeOz"
      },
      "outputs": [],
      "source": [
        "from sklearn.metrics import max_error\n",
        "from sklearn.metrics import r2_score\n",
        "from sklearn.metrics import mean_absolute_error\n",
        "from sklearn.metrics import mean_squared_error\n",
        "from sklearn.metrics import explained_variance_score\n",
        "import os\n",
        "from datetime import datetime"
      ]
    },
    {
      "cell_type": "code",
      "execution_count": null,
      "metadata": {
        "colab": {
          "base_uri": "https://localhost:8080/"
        },
        "id": "7EhmiP6UCnQQ",
        "outputId": "01c88f9b-e640-4bec-ec65-079d8d0da4c3"
      },
      "outputs": [
        {
          "output_type": "stream",
          "name": "stdout",
          "text": [
            "Mounted at /content/gdrive\n"
          ]
        }
      ],
      "source": [
        "from google.colab import drive\n",
        "\n",
        "drive.mount('/content/gdrive')"
      ]
    },
    {
      "cell_type": "code",
      "execution_count": null,
      "metadata": {
        "id": "kn84x4j5CeOz"
      },
      "outputs": [],
      "source": [
        "def norm(x):\n",
        "    return (x - train_stats['mean']) / train_stats['std']"
      ]
    },
    {
      "cell_type": "code",
      "execution_count": null,
      "metadata": {
        "id": "-L4CfalfTlt9"
      },
      "outputs": [],
      "source": [
        "def parse(x):\n",
        "    return datetime.strptime(x, '%Y %m %d %H')"
      ]
    },
    {
      "cell_type": "code",
      "execution_count": null,
      "metadata": {
        "id": "8jtXO-s40lPb"
      },
      "outputs": [],
      "source": [
        "def tie_dataset(feature, label, timestep = 24, want_period = 1):\n",
        "    feature_list = []\n",
        "    label_list = []\n",
        "\n",
        "    for i in range(timestep, len(feature)-want_period):\n",
        "        feature_list.append(feature[i-timestep:i])\n",
        "        label_list.append(label[i:i+want_period]) \n",
        "        #label_list.append(label[i])\n",
        "    return np.array(feature_list), np.array(label_list)"
      ]
    },
    {
      "cell_type": "code",
      "execution_count": null,
      "metadata": {
        "id": "zHEuo9MMCeO1"
      },
      "outputs": [],
      "source": [
        "def generate_model_lstm(trainX, trainy):\n",
        "    \n",
        "    model = Sequential()\n",
        "    model.add(LSTM(64, activation='tanh', return_sequences=True))\n",
        "    model.add(LSTM(64, activation='tanh'))\n",
        "    model.add(Dense(1))\n",
        "   \n",
        "    model.compile(loss='mse',\n",
        "                optimizer='adam',\n",
        "                metrics=['mae', 'mse'])\n",
        "    \n",
        "    early_stop = keras.callbacks.EarlyStopping(monitor='val_loss', patience=10)\n",
        "    model.fit(trainX, trainy, epochs=30, validation_split = 0.2, verbose=0, \n",
        "                    callbacks=[early_stop, tfdocs.modeling.EpochDots()])\n",
        "    \n",
        "    return model\n",
        "\n",
        "\n",
        "\n",
        "\n",
        "def generate_model_cnn(trainX, trainy):   \n",
        "    \n",
        "    model = Sequential()\n",
        "    model.add(Conv1D(filters=4, kernel_size= 1, activation='relu'))\n",
        "    model.add(MaxPooling1D(pool_size=2)) # 데이터 크기 1/2로 줄여줌\n",
        "    #model.add(Flatten()) # 다차원 배열을 1차원으로 바꿔줌\n",
        "\n",
        "    #model.add(LSTM(64, activation='relu', return_sequences=True))\n",
        "    model.add(LSTM(64, activation='relu'))\n",
        "    model.add(Dense(1))\n",
        "\n",
        "    model.compile(loss='mse',\n",
        "                optimizer='adam',\n",
        "                metrics=['mae', 'mse'])\n",
        "    early_stop = keras.callbacks.EarlyStopping(monitor='val_loss', patience=10)\n",
        "    # trainX = trainX.reshape(trainX.shape[0], 4, 1 ,1)\n",
        "    \n",
        "    model.fit(trainX, trainy, epochs=30, validation_split= 0.2, verbose=0,\n",
        "                    callbacks=[early_stop, tfdocs.modeling.EpochDots()])\n",
        "\n",
        "    return model \n",
        "\n",
        "\n",
        "\n",
        " \n",
        "def generate_model_gru(trainX, trainy):   \n",
        "\n",
        "    model = Sequential()\n",
        "    #model.add(GRU(64, activation='tanh', return_sequences=True))\n",
        "    model.add(GRU(64, activation='tanh'))\n",
        "    model.add(Dense(1))\n",
        "   \n",
        "    model.compile(loss='mse',\n",
        "                optimizer='adam',\n",
        "                metrics=['mae', 'mse'])\n",
        "    \n",
        "    early_stop = keras.callbacks.EarlyStopping(monitor='val_loss', patience=10)\n",
        "    model.fit(trainX, trainy, epochs=30, validation_split = 0.2, verbose=0, \n",
        "                    callbacks=[early_stop, tfdocs.modeling.EpochDots()])\n",
        "    return model\n",
        "\n",
        "\n",
        "\n",
        "def generate_model_mlp(trainX, trainy):   \n",
        "\n",
        "    model = Sequential()\n",
        "    model.add(Dense(64, activation='tanh'))\n",
        "    #model.add(Dense(64, activation='tanh'))\n",
        "    model.add(Dense(1))\n",
        "   \n",
        "    model.compile(loss='mse',\n",
        "                optimizer='adam',\n",
        "                metrics=['mae', 'mse'])\n",
        "    \n",
        "    early_stop = keras.callbacks.EarlyStopping(monitor='val_loss', patience=10)\n",
        "    model.fit(trainX, trainy, epochs=250, validation_split = 0.2, verbose=0, \n",
        "                    callbacks=[early_stop, tfdocs.modeling.EpochDots()])\n",
        "    \n",
        "    return model\n",
        "\n",
        "def train_model(model, trainX, trainy):\n",
        "\n",
        "    model.compile(loss='mse',\n",
        "                optimizer='adam',\n",
        "                metrics=['mae', 'mse'])\n",
        "    early_stop = keras.callbacks.EarlyStopping(monitor='val_loss', patience=10)\n",
        "    model.fit(trainX, trainy, epochs=20, validation_split = 0.2, verbose=0, \n",
        "                    callbacks=[early_stop, tfdocs.modeling.EpochDots()])\n",
        "    \n",
        "    return model"
      ]
    },
    {
      "cell_type": "code",
      "execution_count": null,
      "metadata": {
        "id": "lAFouvyxCeO1"
      },
      "outputs": [],
      "source": [
        "df = pd.read_csv(os.path.join('/content/gdrive/My Drive/Colab Notebooks', 'train_hourly.csv'), encoding='utf8')\n",
        "df_forecast = pd.read_csv(os.path.join('/content/gdrive/My Drive/Colab Notebooks', 'test_hourly.csv'), encoding='cp949')"
      ]
    },
    {
      "cell_type": "code",
      "execution_count": null,
      "metadata": {
        "colab": {
          "base_uri": "https://localhost:8080/",
          "height": 279
        },
        "id": "VCFziW-wGXrN",
        "outputId": "d4415f56-4302-45a6-8014-0910d76793ff"
      },
      "outputs": [
        {
          "output_type": "display_data",
          "data": {
            "image/png": "[encoded data removed]",
            "text/plain": [
              "<Figure size 432x288 with 1 Axes>"
            ]
          },
          "metadata": {
            "needs_background": "light"
          }
        }
      ],
      "source": [
        "frq, bins, fig = plt.hist(df[\"pow_gen\"], bins=10, alpha=.8, color='grey')\n",
        "plt.ylabel(\"frequent\")\n",
        "plt.xlabel(\"generation\")\n",
        "plt.grid()\n",
        "plt.show()"
      ]
    },
    {
      "cell_type": "code",
      "execution_count": null,
      "metadata": {
        "colab": {
          "base_uri": "https://localhost:8080/",
          "height": 279
        },
        "id": "b0j126uELig0",
        "outputId": "e546fced-acdf-4ed4-e6f9-8bd30e7a6dff"
      },
      "outputs": [
        {
          "output_type": "display_data",
          "data": {
            "image/png": "[encoded data removed]",
            "text/plain": [
              "<Figure size 432x288 with 1 Axes>"
            ]
          },
          "metadata": {
            "needs_background": "light"
          }
        }
      ],
      "source": [
        "frq, bins, fig = plt.hist(df[\"temperature\"], bins=10, alpha=.8, color='grey')\n",
        "plt.ylabel(\"frequent\")\n",
        "plt.xlabel(\"generation\")\n",
        "plt.grid()\n",
        "plt.show()"
      ]
    },
    {
      "cell_type": "code",
      "execution_count": null,
      "metadata": {
        "colab": {
          "base_uri": "https://localhost:8080/",
          "height": 279
        },
        "id": "fjiTq2PsLqci",
        "outputId": "7dea0f12-37f4-4cf6-d232-e8e73b76db6e"
      },
      "outputs": [
        {
          "output_type": "display_data",
          "data": {
            "image/png": "[encoded data removed]",
            "text/plain": [
              "<Figure size 432x288 with 1 Axes>"
            ]
          },
          "metadata": {
            "needs_background": "light"
          }
        }
      ],
      "source": [
        "frq, bins, fig = plt.hist(df[\"humidity\"], bins=10, alpha=.8, color='grey')\n",
        "plt.ylabel(\"frequent\")\n",
        "plt.xlabel(\"generation\")\n",
        "plt.grid()\n",
        "plt.show()"
      ]
    },
    {
      "cell_type": "code",
      "execution_count": null,
      "metadata": {
        "colab": {
          "base_uri": "https://localhost:8080/",
          "height": 279
        },
        "id": "zbx4T9fNLqen",
        "outputId": "198e3ccc-cc85-4a5c-f645-4cf5496c2846"
      },
      "outputs": [
        {
          "output_type": "display_data",
          "data": {
            "image/png": "[encoded data removed]",
            "text/plain": [
              "<Figure size 432x288 with 1 Axes>"
            ]
          },
          "metadata": {
            "needs_background": "light"
          }
        }
      ],
      "source": [
        "frq, bins, fig = plt.hist(df[\"dew_point\"], bins=10, alpha=.8, color='grey')\n",
        "plt.ylabel(\"frequent\")\n",
        "plt.xlabel(\"generation\")\n",
        "plt.grid()\n",
        "plt.show()"
      ]
    },
    {
      "cell_type": "code",
      "execution_count": null,
      "metadata": {
        "id": "2thu4v8STF8W"
      },
      "outputs": [],
      "source": [
        "# dataset1 = df[[\"년_월_일_시\"]] \n",
        "# df = df.drop(\"일자\", axis=1) \n",
        "# df = df.set_index(\"년_월_일_시\", drop=True)\n"
      ]
    },
    {
      "cell_type": "code",
      "execution_count": null,
      "metadata": {
        "colab": {
          "base_uri": "https://localhost:8080/",
          "height": 424
        },
        "id": "COhJT6OCWQ2G",
        "outputId": "2c0a7a53-c723-45f8-82f7-0f71ba5c24db"
      },
      "outputs": [
        {
          "output_type": "execute_result",
          "data": {
            "text/html": [
              "\n",
              "  <div id=\"df-7010f40d-f970-45e6-9116-7550025653d1\">\n",
              "    <div class=\"colab-df-container\">\n",
              "      <div>\n",
              "<style scoped>\n",
              "    .dataframe tbody tr th:only-of-type {\n",
              "        vertical-align: middle;\n",
              "    }\n",
              "\n",
              "    .dataframe tbody tr th {\n",
              "        vertical-align: top;\n",
              "    }\n",
              "\n",
              "    .dataframe thead th {\n",
              "        text-align: right;\n",
              "    }\n",
              "</style>\n",
              "<table border=\"1\" class=\"dataframe\">\n",
              "  <thead>\n",
              "    <tr style=\"text-align: right;\">\n",
              "      <th></th>\n",
              "      <th>year</th>\n",
              "      <th>month</th>\n",
              "      <th>day</th>\n",
              "      <th>hour</th>\n",
              "      <th>temperature</th>\n",
              "      <th>humidity</th>\n",
              "      <th>dew_point</th>\n",
              "      <th>sol_rad</th>\n",
              "      <th>cloud</th>\n",
              "      <th>pow_gen</th>\n",
              "    </tr>\n",
              "  </thead>\n",
              "  <tbody>\n",
              "    <tr>\n",
              "      <th>0</th>\n",
              "      <td>2016</td>\n",
              "      <td>12</td>\n",
              "      <td>13</td>\n",
              "      <td>14</td>\n",
              "      <td>4.3</td>\n",
              "      <td>77</td>\n",
              "      <td>0.6</td>\n",
              "      <td>100.000</td>\n",
              "      <td>0</td>\n",
              "      <td>140.631</td>\n",
              "    </tr>\n",
              "    <tr>\n",
              "      <th>1</th>\n",
              "      <td>2016</td>\n",
              "      <td>12</td>\n",
              "      <td>13</td>\n",
              "      <td>15</td>\n",
              "      <td>4.3</td>\n",
              "      <td>80</td>\n",
              "      <td>1.1</td>\n",
              "      <td>72.222</td>\n",
              "      <td>0</td>\n",
              "      <td>85.793</td>\n",
              "    </tr>\n",
              "    <tr>\n",
              "      <th>2</th>\n",
              "      <td>2016</td>\n",
              "      <td>12</td>\n",
              "      <td>13</td>\n",
              "      <td>16</td>\n",
              "      <td>3.8</td>\n",
              "      <td>80</td>\n",
              "      <td>0.6</td>\n",
              "      <td>55.556</td>\n",
              "      <td>0</td>\n",
              "      <td>32.590</td>\n",
              "    </tr>\n",
              "    <tr>\n",
              "      <th>3</th>\n",
              "      <td>2016</td>\n",
              "      <td>12</td>\n",
              "      <td>13</td>\n",
              "      <td>17</td>\n",
              "      <td>3.4</td>\n",
              "      <td>80</td>\n",
              "      <td>0.2</td>\n",
              "      <td>13.889</td>\n",
              "      <td>0</td>\n",
              "      <td>0.154</td>\n",
              "    </tr>\n",
              "    <tr>\n",
              "      <th>4</th>\n",
              "      <td>2016</td>\n",
              "      <td>12</td>\n",
              "      <td>14</td>\n",
              "      <td>7</td>\n",
              "      <td>0.0</td>\n",
              "      <td>70</td>\n",
              "      <td>-4.8</td>\n",
              "      <td>0.000</td>\n",
              "      <td>0</td>\n",
              "      <td>7.275</td>\n",
              "    </tr>\n",
              "    <tr>\n",
              "      <th>...</th>\n",
              "      <td>...</td>\n",
              "      <td>...</td>\n",
              "      <td>...</td>\n",
              "      <td>...</td>\n",
              "      <td>...</td>\n",
              "      <td>...</td>\n",
              "      <td>...</td>\n",
              "      <td>...</td>\n",
              "      <td>...</td>\n",
              "      <td>...</td>\n",
              "    </tr>\n",
              "    <tr>\n",
              "      <th>16249</th>\n",
              "      <td>2020</td>\n",
              "      <td>12</td>\n",
              "      <td>31</td>\n",
              "      <td>13</td>\n",
              "      <td>1.6</td>\n",
              "      <td>43</td>\n",
              "      <td>-9.6</td>\n",
              "      <td>383.333</td>\n",
              "      <td>7</td>\n",
              "      <td>992.598</td>\n",
              "    </tr>\n",
              "    <tr>\n",
              "      <th>16250</th>\n",
              "      <td>2020</td>\n",
              "      <td>12</td>\n",
              "      <td>31</td>\n",
              "      <td>14</td>\n",
              "      <td>2.0</td>\n",
              "      <td>44</td>\n",
              "      <td>-9.0</td>\n",
              "      <td>425.000</td>\n",
              "      <td>7</td>\n",
              "      <td>865.707</td>\n",
              "    </tr>\n",
              "    <tr>\n",
              "      <th>16251</th>\n",
              "      <td>2020</td>\n",
              "      <td>12</td>\n",
              "      <td>31</td>\n",
              "      <td>15</td>\n",
              "      <td>2.8</td>\n",
              "      <td>44</td>\n",
              "      <td>-8.2</td>\n",
              "      <td>236.111</td>\n",
              "      <td>8</td>\n",
              "      <td>624.352</td>\n",
              "    </tr>\n",
              "    <tr>\n",
              "      <th>16252</th>\n",
              "      <td>2020</td>\n",
              "      <td>12</td>\n",
              "      <td>31</td>\n",
              "      <td>16</td>\n",
              "      <td>2.6</td>\n",
              "      <td>44</td>\n",
              "      <td>-8.4</td>\n",
              "      <td>244.444</td>\n",
              "      <td>6</td>\n",
              "      <td>224.034</td>\n",
              "    </tr>\n",
              "    <tr>\n",
              "      <th>16253</th>\n",
              "      <td>2020</td>\n",
              "      <td>12</td>\n",
              "      <td>31</td>\n",
              "      <td>17</td>\n",
              "      <td>1.9</td>\n",
              "      <td>49</td>\n",
              "      <td>-7.7</td>\n",
              "      <td>55.556</td>\n",
              "      <td>8</td>\n",
              "      <td>4.287</td>\n",
              "    </tr>\n",
              "  </tbody>\n",
              "</table>\n",
              "<p>16254 rows × 10 columns</p>\n",
              "</div>\n",
              "      <button class=\"colab-df-convert\" onclick=\"convertToInteractive('df-7010f40d-f970-45e6-9116-7550025653d1')\"\n",
              "              title=\"Convert this dataframe to an interactive table.\"\n",
              "              style=\"display:none;\">\n",
              "        \n",
              "  <svg xmlns=\"http://www.w3.org/2000/svg\" height=\"24px\"viewBox=\"0 0 24 24\"\n",
              "       width=\"24px\">\n",
              "    <path d=\"M0 0h24v24H0V0z\" fill=\"none\"/>\n",
              "    <path d=\"M18.56 5.44l.94 2.06.94-2.06 2.06-.94-2.06-.94-.94-2.06-.94 2.06-2.06.94zm-11 1L8.5 8.5l.94-2.06 2.06-.94-2.06-.94L8.5 2.5l-.94 2.06-2.06.94zm10 10l.94 2.06.94-2.06 2.06-.94-2.06-.94-.94-2.06-.94 2.06-2.06.94z\"/><path d=\"M17.41 7.96l-1.37-1.37c-.4-.4-.92-.59-1.43-.59-.52 0-1.04.2-1.43.59L10.3 9.45l-7.72 7.72c-.78.78-.78 2.05 0 2.83L4 21.41c.39.39.9.59 1.41.59.51 0 1.02-.2 1.41-.59l7.78-7.78 2.81-2.81c.8-.78.8-2.07 0-2.86zM5.41 20L4 18.59l7.72-7.72 1.47 1.35L5.41 20z\"/>\n",
              "  </svg>\n",
              "      </button>\n",
              "      \n",
              "  <style>\n",
              "    .colab-df-container {\n",
              "      display:flex;\n",
              "      flex-wrap:wrap;\n",
              "      gap: 12px;\n",
              "    }\n",
              "\n",
              "    .colab-df-convert {\n",
              "      background-color: #E8F0FE;\n",
              "      border: none;\n",
              "      border-radius: 50%;\n",
              "      cursor: pointer;\n",
              "      display: none;\n",
              "      fill: #1967D2;\n",
              "      height: 32px;\n",
              "      padding: 0 0 0 0;\n",
              "      width: 32px;\n",
              "    }\n",
              "\n",
              "    .colab-df-convert:hover {\n",
              "      background-color: #E2EBFA;\n",
              "      box-shadow: 0px 1px 2px rgba(60, 64, 67, 0.3), 0px 1px 3px 1px rgba(60, 64, 67, 0.15);\n",
              "      fill: #174EA6;\n",
              "    }\n",
              "\n",
              "    [theme=dark] .colab-df-convert {\n",
              "      background-color: #3B4455;\n",
              "      fill: #D2E3FC;\n",
              "    }\n",
              "\n",
              "    [theme=dark] .colab-df-convert:hover {\n",
              "      background-color: #434B5C;\n",
              "      box-shadow: 0px 1px 3px 1px rgba(0, 0, 0, 0.15);\n",
              "      filter: drop-shadow(0px 1px 2px rgba(0, 0, 0, 0.3));\n",
              "      fill: #FFFFFF;\n",
              "    }\n",
              "  </style>\n",
              "\n",
              "      <script>\n",
              "        const buttonEl =\n",
              "          document.querySelector('#df-7010f40d-f970-45e6-9116-7550025653d1 button.colab-df-convert');\n",
              "        buttonEl.style.display =\n",
              "          google.colab.kernel.accessAllowed ? 'block' : 'none';\n",
              "\n",
              "        async function convertToInteractive(key) {\n",
              "          const element = document.querySelector('#df-7010f40d-f970-45e6-9116-7550025653d1');\n",
              "          const dataTable =\n",
              "            await google.colab.kernel.invokeFunction('convertToInteractive',\n",
              "                                                     [key], {});\n",
              "          if (!dataTable) return;\n",
              "\n",
              "          const docLinkHtml = 'Like what you see? Visit the ' +\n",
              "            '<a target=\"_blank\" href=https://colab.research.google.com/notebooks/data_table.ipynb>data table notebook</a>'\n",
              "            + ' to learn more about interactive tables.';\n",
              "          element.innerHTML = '';\n",
              "          dataTable['output_type'] = 'display_data';\n",
              "          await google.colab.output.renderOutput(dataTable, element);\n",
              "          const docLink = document.createElement('div');\n",
              "          docLink.innerHTML = docLinkHtml;\n",
              "          element.appendChild(docLink);\n",
              "        }\n",
              "      </script>\n",
              "    </div>\n",
              "  </div>\n",
              "  "
            ],
            "text/plain": [
              "       year  month  day  hour  ...  dew_point  sol_rad  cloud  pow_gen\n",
              "0      2016     12   13    14  ...        0.6  100.000      0  140.631\n",
              "1      2016     12   13    15  ...        1.1   72.222      0   85.793\n",
              "2      2016     12   13    16  ...        0.6   55.556      0   32.590\n",
              "3      2016     12   13    17  ...        0.2   13.889      0    0.154\n",
              "4      2016     12   14     7  ...       -4.8    0.000      0    7.275\n",
              "...     ...    ...  ...   ...  ...        ...      ...    ...      ...\n",
              "16249  2020     12   31    13  ...       -9.6  383.333      7  992.598\n",
              "16250  2020     12   31    14  ...       -9.0  425.000      7  865.707\n",
              "16251  2020     12   31    15  ...       -8.2  236.111      8  624.352\n",
              "16252  2020     12   31    16  ...       -8.4  244.444      6  224.034\n",
              "16253  2020     12   31    17  ...       -7.7   55.556      8    4.287\n",
              "\n",
              "[16254 rows x 10 columns]"
            ]
          },
          "metadata": {},
          "execution_count": 19
        }
      ],
      "source": [
        "df"
      ]
    },
    {
      "cell_type": "code",
      "execution_count": null,
      "metadata": {
        "id": "0EKBJC_eCeO3"
      },
      "outputs": [],
      "source": [
        "#Split dataset into training and testing set\n",
        "train_size = int(len(df)*0.7)\n",
        "test_size = int(len(df)*0.3)\n",
        " \n",
        "# train_dataset = df[['month', 'day', 'hour', 'temperature', 'humidity', 'dew_point', 'sol_rad', 'cloud', 'pow_gen']]                      #시 발전량 기온 습도 이슬점온도 일사량 전운량\n",
        "# test_dataset = df_forecast[['month', 'day', 'hour', 'temperature', 'humidity', 'dew_point', 'sol_rad', 'cloud', 'pow_gen']]\n",
        "\n",
        "train_dataset = df.iloc[:train_size, [1,2,3,4,5,6,7,8,9]]\n",
        "test_dataset = df.iloc[train_size : train_size+test_size, [1,2,3,4,5,6,7,8,9]] "
      ]
    },
    {
      "cell_type": "code",
      "execution_count": null,
      "metadata": {
        "id": "dp1XReeO-D-g"
      },
      "outputs": [],
      "source": [
        "all_train = pd.concat([train_dataset, test_dataset], axis=0)"
      ]
    },
    {
      "cell_type": "code",
      "execution_count": null,
      "metadata": {
        "id": "RNFMyEk43rm4"
      },
      "outputs": [],
      "source": [
        "train_stats = all_train.describe()\n",
        "train_stats.pop(\"pow_gen\")\n",
        "train_stats = train_stats.transpose()"
      ]
    },
    {
      "cell_type": "code",
      "execution_count": null,
      "metadata": {
        "id": "13B0SGP55wqr"
      },
      "outputs": [],
      "source": [
        "train_labels = train_dataset.pop('pow_gen')\n",
        "test_labels = test_dataset.pop('pow_gen')"
      ]
    },
    {
      "cell_type": "code",
      "execution_count": null,
      "metadata": {
        "id": "RZtg7INcCeO3"
      },
      "outputs": [],
      "source": [
        "normed_train_data = norm(train_dataset)\n",
        "normed_test_data = norm(test_dataset)\n",
        "    \n",
        "train_final= normed_train_data.values\n",
        "test_final = normed_test_data.values\n",
        "target=train_labels.values\n",
        "test_target=test_labels.values\n"
      ]
    },
    {
      "cell_type": "code",
      "execution_count": null,
      "metadata": {
        "colab": {
          "base_uri": "https://localhost:8080/",
          "height": 424
        },
        "id": "-_orko3DAnq8",
        "outputId": "2c0ed03e-f310-43f0-de8e-871df1a31462"
      },
      "outputs": [
        {
          "output_type": "execute_result",
          "data": {
            "text/html": [
              "\n",
              "  <div id=\"df-5b41fa37-bfbe-436e-a7fc-bbf3f5fd964b\">\n",
              "    <div class=\"colab-df-container\">\n",
              "      <div>\n",
              "<style scoped>\n",
              "    .dataframe tbody tr th:only-of-type {\n",
              "        vertical-align: middle;\n",
              "    }\n",
              "\n",
              "    .dataframe tbody tr th {\n",
              "        vertical-align: top;\n",
              "    }\n",
              "\n",
              "    .dataframe thead th {\n",
              "        text-align: right;\n",
              "    }\n",
              "</style>\n",
              "<table border=\"1\" class=\"dataframe\">\n",
              "  <thead>\n",
              "    <tr style=\"text-align: right;\">\n",
              "      <th></th>\n",
              "      <th>month</th>\n",
              "      <th>day</th>\n",
              "      <th>hour</th>\n",
              "      <th>temperature</th>\n",
              "      <th>humidity</th>\n",
              "      <th>dew_point</th>\n",
              "      <th>sol_rad</th>\n",
              "      <th>cloud</th>\n",
              "    </tr>\n",
              "  </thead>\n",
              "  <tbody>\n",
              "    <tr>\n",
              "      <th>0</th>\n",
              "      <td>1.553954</td>\n",
              "      <td>-0.318802</td>\n",
              "      <td>0.632615</td>\n",
              "      <td>-1.141028</td>\n",
              "      <td>0.789066</td>\n",
              "      <td>-0.498794</td>\n",
              "      <td>-0.820361</td>\n",
              "      <td>-0.774454</td>\n",
              "    </tr>\n",
              "    <tr>\n",
              "      <th>1</th>\n",
              "      <td>1.553954</td>\n",
              "      <td>-0.318802</td>\n",
              "      <td>0.948748</td>\n",
              "      <td>-1.141028</td>\n",
              "      <td>0.917647</td>\n",
              "      <td>-0.457611</td>\n",
              "      <td>-0.931840</td>\n",
              "      <td>-0.774454</td>\n",
              "    </tr>\n",
              "    <tr>\n",
              "      <th>2</th>\n",
              "      <td>1.553954</td>\n",
              "      <td>-0.318802</td>\n",
              "      <td>1.264880</td>\n",
              "      <td>-1.190005</td>\n",
              "      <td>0.917647</td>\n",
              "      <td>-0.498794</td>\n",
              "      <td>-0.998723</td>\n",
              "      <td>-0.774454</td>\n",
              "    </tr>\n",
              "    <tr>\n",
              "      <th>3</th>\n",
              "      <td>1.553954</td>\n",
              "      <td>-0.318802</td>\n",
              "      <td>1.581013</td>\n",
              "      <td>-1.229186</td>\n",
              "      <td>0.917647</td>\n",
              "      <td>-0.531740</td>\n",
              "      <td>-1.165941</td>\n",
              "      <td>-0.774454</td>\n",
              "    </tr>\n",
              "    <tr>\n",
              "      <th>4</th>\n",
              "      <td>1.553954</td>\n",
              "      <td>-0.205146</td>\n",
              "      <td>-1.580312</td>\n",
              "      <td>-1.562227</td>\n",
              "      <td>0.489042</td>\n",
              "      <td>-0.943568</td>\n",
              "      <td>-1.221680</td>\n",
              "      <td>-0.774454</td>\n",
              "    </tr>\n",
              "    <tr>\n",
              "      <th>...</th>\n",
              "      <td>...</td>\n",
              "      <td>...</td>\n",
              "      <td>...</td>\n",
              "      <td>...</td>\n",
              "      <td>...</td>\n",
              "      <td>...</td>\n",
              "      <td>...</td>\n",
              "      <td>...</td>\n",
              "    </tr>\n",
              "    <tr>\n",
              "      <th>11372</th>\n",
              "      <td>0.979592</td>\n",
              "      <td>-0.091489</td>\n",
              "      <td>-0.948047</td>\n",
              "      <td>-0.592489</td>\n",
              "      <td>1.731997</td>\n",
              "      <td>0.250733</td>\n",
              "      <td>-0.352155</td>\n",
              "      <td>-0.270351</td>\n",
              "    </tr>\n",
              "    <tr>\n",
              "      <th>11373</th>\n",
              "      <td>0.979592</td>\n",
              "      <td>-0.091489</td>\n",
              "      <td>-0.631915</td>\n",
              "      <td>-0.141904</td>\n",
              "      <td>1.346253</td>\n",
              "      <td>0.506066</td>\n",
              "      <td>0.405892</td>\n",
              "      <td>0.485804</td>\n",
              "    </tr>\n",
              "    <tr>\n",
              "      <th>11374</th>\n",
              "      <td>0.979592</td>\n",
              "      <td>-0.091489</td>\n",
              "      <td>-0.315782</td>\n",
              "      <td>0.112774</td>\n",
              "      <td>0.446181</td>\n",
              "      <td>0.382518</td>\n",
              "      <td>0.751471</td>\n",
              "      <td>0.737855</td>\n",
              "    </tr>\n",
              "    <tr>\n",
              "      <th>11375</th>\n",
              "      <td>0.979592</td>\n",
              "      <td>-0.091489</td>\n",
              "      <td>0.000350</td>\n",
              "      <td>0.279295</td>\n",
              "      <td>-0.111005</td>\n",
              "      <td>0.258969</td>\n",
              "      <td>1.063605</td>\n",
              "      <td>0.485804</td>\n",
              "    </tr>\n",
              "    <tr>\n",
              "      <th>11376</th>\n",
              "      <td>0.979592</td>\n",
              "      <td>-0.091489</td>\n",
              "      <td>0.316483</td>\n",
              "      <td>0.367453</td>\n",
              "      <td>-0.282448</td>\n",
              "      <td>0.234260</td>\n",
              "      <td>1.398040</td>\n",
              "      <td>-0.522402</td>\n",
              "    </tr>\n",
              "  </tbody>\n",
              "</table>\n",
              "<p>11377 rows × 8 columns</p>\n",
              "</div>\n",
              "      <button class=\"colab-df-convert\" onclick=\"convertToInteractive('df-5b41fa37-bfbe-436e-a7fc-bbf3f5fd964b')\"\n",
              "              title=\"Convert this dataframe to an interactive table.\"\n",
              "              style=\"display:none;\">\n",
              "        \n",
              "  <svg xmlns=\"http://www.w3.org/2000/svg\" height=\"24px\"viewBox=\"0 0 24 24\"\n",
              "       width=\"24px\">\n",
              "    <path d=\"M0 0h24v24H0V0z\" fill=\"none\"/>\n",
              "    <path d=\"M18.56 5.44l.94 2.06.94-2.06 2.06-.94-2.06-.94-.94-2.06-.94 2.06-2.06.94zm-11 1L8.5 8.5l.94-2.06 2.06-.94-2.06-.94L8.5 2.5l-.94 2.06-2.06.94zm10 10l.94 2.06.94-2.06 2.06-.94-2.06-.94-.94-2.06-.94 2.06-2.06.94z\"/><path d=\"M17.41 7.96l-1.37-1.37c-.4-.4-.92-.59-1.43-.59-.52 0-1.04.2-1.43.59L10.3 9.45l-7.72 7.72c-.78.78-.78 2.05 0 2.83L4 21.41c.39.39.9.59 1.41.59.51 0 1.02-.2 1.41-.59l7.78-7.78 2.81-2.81c.8-.78.8-2.07 0-2.86zM5.41 20L4 18.59l7.72-7.72 1.47 1.35L5.41 20z\"/>\n",
              "  </svg>\n",
              "      </button>\n",
              "      \n",
              "  <style>\n",
              "    .colab-df-container {\n",
              "      display:flex;\n",
              "      flex-wrap:wrap;\n",
              "      gap: 12px;\n",
              "    }\n",
              "\n",
              "    .colab-df-convert {\n",
              "      background-color: #E8F0FE;\n",
              "      border: none;\n",
              "      border-radius: 50%;\n",
              "      cursor: pointer;\n",
              "      display: none;\n",
              "      fill: #1967D2;\n",
              "      height: 32px;\n",
              "      padding: 0 0 0 0;\n",
              "      width: 32px;\n",
              "    }\n",
              "\n",
              "    .colab-df-convert:hover {\n",
              "      background-color: #E2EBFA;\n",
              "      box-shadow: 0px 1px 2px rgba(60, 64, 67, 0.3), 0px 1px 3px 1px rgba(60, 64, 67, 0.15);\n",
              "      fill: #174EA6;\n",
              "    }\n",
              "\n",
              "    [theme=dark] .colab-df-convert {\n",
              "      background-color: #3B4455;\n",
              "      fill: #D2E3FC;\n",
              "    }\n",
              "\n",
              "    [theme=dark] .colab-df-convert:hover {\n",
              "      background-color: #434B5C;\n",
              "      box-shadow: 0px 1px 3px 1px rgba(0, 0, 0, 0.15);\n",
              "      filter: drop-shadow(0px 1px 2px rgba(0, 0, 0, 0.3));\n",
              "      fill: #FFFFFF;\n",
              "    }\n",
              "  </style>\n",
              "\n",
              "      <script>\n",
              "        const buttonEl =\n",
              "          document.querySelector('#df-5b41fa37-bfbe-436e-a7fc-bbf3f5fd964b button.colab-df-convert');\n",
              "        buttonEl.style.display =\n",
              "          google.colab.kernel.accessAllowed ? 'block' : 'none';\n",
              "\n",
              "        async function convertToInteractive(key) {\n",
              "          const element = document.querySelector('#df-5b41fa37-bfbe-436e-a7fc-bbf3f5fd964b');\n",
              "          const dataTable =\n",
              "            await google.colab.kernel.invokeFunction('convertToInteractive',\n",
              "                                                     [key], {});\n",
              "          if (!dataTable) return;\n",
              "\n",
              "          const docLinkHtml = 'Like what you see? Visit the ' +\n",
              "            '<a target=\"_blank\" href=https://colab.research.google.com/notebooks/data_table.ipynb>data table notebook</a>'\n",
              "            + ' to learn more about interactive tables.';\n",
              "          element.innerHTML = '';\n",
              "          dataTable['output_type'] = 'display_data';\n",
              "          await google.colab.output.renderOutput(dataTable, element);\n",
              "          const docLink = document.createElement('div');\n",
              "          docLink.innerHTML = docLinkHtml;\n",
              "          element.appendChild(docLink);\n",
              "        }\n",
              "      </script>\n",
              "    </div>\n",
              "  </div>\n",
              "  "
            ],
            "text/plain": [
              "          month       day      hour  ...  dew_point   sol_rad     cloud\n",
              "0      1.553954 -0.318802  0.632615  ...  -0.498794 -0.820361 -0.774454\n",
              "1      1.553954 -0.318802  0.948748  ...  -0.457611 -0.931840 -0.774454\n",
              "2      1.553954 -0.318802  1.264880  ...  -0.498794 -0.998723 -0.774454\n",
              "3      1.553954 -0.318802  1.581013  ...  -0.531740 -1.165941 -0.774454\n",
              "4      1.553954 -0.205146 -1.580312  ...  -0.943568 -1.221680 -0.774454\n",
              "...         ...       ...       ...  ...        ...       ...       ...\n",
              "11372  0.979592 -0.091489 -0.948047  ...   0.250733 -0.352155 -0.270351\n",
              "11373  0.979592 -0.091489 -0.631915  ...   0.506066  0.405892  0.485804\n",
              "11374  0.979592 -0.091489 -0.315782  ...   0.382518  0.751471  0.737855\n",
              "11375  0.979592 -0.091489  0.000350  ...   0.258969  1.063605  0.485804\n",
              "11376  0.979592 -0.091489  0.316483  ...   0.234260  1.398040 -0.522402\n",
              "\n",
              "[11377 rows x 8 columns]"
            ]
          },
          "metadata": {},
          "execution_count": 25
        }
      ],
      "source": [
        "normed_train_data"
      ]
    },
    {
      "cell_type": "code",
      "execution_count": null,
      "metadata": {
        "id": "KZJl3RE0CeO3"
      },
      "outputs": [],
      "source": [
        "from sklearn.decomposition import PCA\n",
        "pca = PCA(.95)\n",
        "pca.fit(train_final)\n",
        "    \n",
        "pca_train = pca.transform(train_final)\n",
        "pca_test = pca.transform(test_final)\n"
      ]
    },
    {
      "cell_type": "code",
      "execution_count": null,
      "metadata": {
        "colab": {
          "base_uri": "https://localhost:8080/"
        },
        "id": "2YsSTnk1uXRP",
        "outputId": "1f35017e-20f9-4846-decd-ff93529ee2c9"
      },
      "outputs": [
        {
          "output_type": "execute_result",
          "data": {
            "text/plain": [
              "((11352, 24, 6), (11352, 1), (4876, 6))"
            ]
          },
          "metadata": {},
          "execution_count": 27
        }
      ],
      "source": [
        "X_train, Y_train = tie_dataset(pca_train, target)\n",
        "X_test, Y_test = tie_dataset(pca_test, test_target)\n",
        "\n",
        "testX_mlp = pca_test[-6476:]\n",
        "testy_mlp = test_target\n",
        "\n",
        "X_train.shape, Y_train.shape, pca_test.shape"
      ]
    },
    {
      "cell_type": "code",
      "source": [
        "# for train_ix, test_ix in kfold.split(X):            for cross validation\n",
        "# \t# select samples\n",
        "# \ttrainX, trainy = X[train_ix], y[train_ix]\n",
        "# \ttestX, testy = X[test_ix], y[test_ix]\n",
        "# \t# evaluate model\n",
        "# \tmodel, test_acc = evaluate_model(trainX, trainy, testX, testy)\n",
        "# \tprint('>%.3f' % test_acc)\n",
        "# \tscores.append(test_acc)\n",
        "# \tmembers.append(model)  \n",
        " "
      ],
      "metadata": {
        "id": "6k7b-iE30_tN"
      },
      "execution_count": null,
      "outputs": []
    },
    {
      "cell_type": "code",
      "execution_count": null,
      "metadata": {
        "id": "5k1lgTuWCeO3"
      },
      "outputs": [],
      "source": [
        "# X_train = np.expand_dims(pca_train, axis=2)\n",
        "# X_test = np.expand_dims(pca_test, axis=2)\n"
      ]
    },
    {
      "cell_type": "code",
      "execution_count": null,
      "metadata": {
        "id": "SvvyfyigCeO4",
        "colab": {
          "base_uri": "https://localhost:8080/"
        },
        "outputId": "0a8596b4-14d6-47e7-9425-23fe7bb0d349"
      },
      "outputs": [
        {
          "output_type": "stream",
          "name": "stdout",
          "text": [
            "\n",
            "Epoch: 0, loss:387741.4062,  mae:496.2385,  mse:387741.4062,  val_loss:434344.6562,  val_mae:546.9984,  val_mse:434344.6562,  \n",
            "..............................\n",
            "Epoch: 0, loss:386241.1562,  mae:495.0824,  mse:386241.1562,  val_loss:432283.5000,  val_mae:545.1622,  val_mse:432283.5000,  \n",
            "..............................\n",
            "Epoch: 0, loss:386552.1875,  mae:495.3596,  mse:386552.1875,  val_loss:432394.2500,  val_mae:545.2612,  val_mse:432394.2500,  \n",
            "..............................\n",
            "Epoch: 0, loss:387062.0938,  mae:495.7478,  mse:387062.0938,  val_loss:433119.7188,  val_mae:545.9077,  val_mse:433119.7188,  \n",
            "..............................\n",
            "Epoch: 0, loss:386585.1875,  mae:495.4086,  mse:386585.1875,  val_loss:432726.7812,  val_mae:545.5582,  val_mse:432726.7812,  \n",
            "..............................\n",
            "Epoch: 0, loss:387581.7500,  mae:496.1797,  mse:387581.7500,  val_loss:434064.4062,  val_mae:546.7497,  val_mse:434064.4062,  \n",
            "..............................\n",
            "Epoch: 0, loss:385353.5938,  mae:494.3490,  mse:385353.5938,  val_loss:430999.9688,  val_mae:544.0173,  val_mse:430999.9688,  \n",
            "..............................\n",
            "Epoch: 0, loss:387172.7812,  mae:495.8653,  mse:387172.7812,  val_loss:433541.8438,  val_mae:546.2836,  val_mse:433541.8438,  \n",
            "..............................\n",
            "Epoch: 0, loss:386952.3125,  mae:495.6465,  mse:386952.3125,  val_loss:433191.9375,  val_mae:545.9720,  val_mse:433191.9375,  \n",
            "..............................\n",
            "Epoch: 0, loss:386668.4688,  mae:495.4471,  mse:386668.4688,  val_loss:432855.7500,  val_mae:545.6724,  val_mse:432855.7500,  \n",
            ".............................."
          ]
        }
      ],
      "source": [
        "n_splits = 10\n",
        "members_lstm = list()\n",
        "members_cnn = list()\n",
        "members_gru = list()\n",
        "members_mlp = list()\n",
        "members = list()\n",
        "members_ret = list()\n",
        "\n",
        "# model = generate_model_lstm(X_train, Y_train)\n",
        "# members.append(model)\n",
        "\n",
        "\n",
        "# model = generate_model_cnn(X_train, Y_train)\n",
        "# members.append(model)\n",
        "\n",
        "\n",
        "# model = generate_model_gru(X_train, Y_train)\n",
        "# members.append(model)\n",
        "\n",
        "\n",
        "# model = generate_model_mlp(pca_train, target)\n",
        "# members.append(model)\n",
        "\n",
        "# members = [CL,LT,GR,ML]\n",
        "\n",
        "for _ in range(n_splits):\n",
        "    model = generate_model_lstm(X_train, Y_train)\n",
        "    members.append(model)\n",
        "\n",
        "    "
      ]
    },
    {
      "cell_type": "code",
      "source": [
        "# def load_all_models(n_models):\n",
        "# \tall_models = list()\n",
        "# \tfor i in range(n_models):\n",
        "# \t\t# define filename for this ensemble\n",
        "# \t\tfilename = '/content/gdrive/My Drive/Colab Notebooks/model_' + str(i + 1) + '.h5'\n",
        "# \t\t# load model from file\n",
        "# \t\tmodel = tf.keras.models.load_model(filename)\n",
        "# \t\t# add to list of members\n",
        "# \t\tall_models.append(model)\n",
        "# \t\tprint('>loaded %s' % filename)\n",
        "# \treturn all_models"
      ],
      "metadata": {
        "id": "9n6kUVsBYJ0a"
      },
      "execution_count": null,
      "outputs": []
    },
    {
      "cell_type": "code",
      "source": [
        "# members = load_all_models(4)\n",
        "# print('Loaded %d models' % len(members))"
      ],
      "metadata": {
        "id": "NHLBf9GUXF3Z"
      },
      "execution_count": null,
      "outputs": []
    },
    {
      "cell_type": "code",
      "execution_count": null,
      "metadata": {
        "id": "i5ybEnwUCeO5",
        "colab": {
          "base_uri": "https://localhost:8080/"
        },
        "outputId": "a7bc8a35-d9f8-4898-ca35-c5cc7e204dfd"
      },
      "outputs": [
        {
          "output_type": "stream",
          "name": "stdout",
          "text": [
            "> 1: Single=381.153, Ensemble=381.153\n",
            "> 2: Single=380.358, Ensemble=380.748\n",
            "> 3: Single=385.039, Ensemble=381.839\n",
            "> 4: Single=307.846, Ensemble=355.932\n",
            "> 5: Single=380.375, Ensemble=360.317\n",
            "> 6: Single=380.609, Ensemble=363.442\n",
            "> 7: Single=351.863, Ensemble=359.420\n",
            "> 8: Single=380.705, Ensemble=361.796\n",
            "> 9: Single=381.105, Ensemble=363.767\n"
          ]
        }
      ],
      "source": [
        "cnn_mse, gru_mse, mlp_mse = list(), list(), list()\n",
        "single_mse, ensemble_mse = list(), list()\n",
        "single_pred = list()\n",
        "\n",
        "for i in range(1, n_splits):\n",
        "  \n",
        "    subset = members[:i]\n",
        "    yhats = [model.predict(X_test) for model in subset]\n",
        "    yhats = array(yhats)\n",
        "    yhats[yhats<0] = 0\n",
        "    averaged = np.average(yhats, axis=0)\n",
        "    ensemble = mean_squared_error(Y_test,averaged,squared=False)\n",
        "\n",
        "    *_, y1 = [members[i-1].predict(X_test)]\n",
        "    y1[y1<0] = 0\n",
        "    single =  mean_squared_error(Y_test,y1,squared=False)\n",
        "\n",
        "        #X_test_cnn = X_test.reshape(X_test.shape[0], 4,1,1)\n",
        "        # *_, y2 = [members_cnn[i-1].predict(X_test)]\n",
        "        # y2[y2<0] = 0\n",
        "        # cnn_lstm = mean_squared_error(Y_test, y2, squared=False) \n",
        "\n",
        "        # *_, y3 = [members_gru[i-1].predict(X_test)]\n",
        "        # y3[y3<0] = 0\n",
        "        # single_gru = mean_squared_error(Y_test, y3, squared=False) \n",
        "    \n",
        "        # *_, y4 = [members_mlp[i-1].predict(X_test)]\n",
        "        # y4[y4<0] = 0\n",
        "        # single_mlp = mean_squared_error(Y_test, y4, squared=False) \n",
        "\n",
        "        #print('> %d: LSTM=%.3f, cnn_lstm=%.3f, ensemble=%.3f' % (i, single_lstm, cnn_lstm, ensemble))\n",
        "    print('> %d: Single=%.3f, Ensemble=%.3f' % (i, single, ensemble))\n",
        "    single_mse.append(single)\n",
        "    # cnn_mse.append(cnn_lstm)\n",
        "    ensemble_mse.append(ensemble) \n",
        "    single_pred.append(y1)\n",
        "    # gru_mse.append(single_gru)\n",
        "    # mlp_mse.append(single_mlp)\n",
        "\n",
        "# y1 = members[3].predict(testX_mlp)\n",
        "# y1[y1<0] = 0\n",
        "# single = mean_squared_error(Y_test, y1, squared=False)\n",
        "# single_pred.append(y1)\n",
        "# single_pred = array(single_pred)\n",
        "# averaged = np.average(single_pred, axis=0)\n",
        "# ensemble = mean_squared_error(Y_test, averaged, squared=False)\n",
        "\n",
        "# print('> %d: Single=%.3f, Ensemble=%.3f' % (4, single, ensemble))\n",
        "# single_mse.append(single)\n",
        "# ensemble_mse.append(ensemble)\n"
      ]
    },
    {
      "cell_type": "code",
      "execution_count": null,
      "metadata": {
        "id": "OI2r1FaKXae0"
      },
      "outputs": [],
      "source": [
        "plt.rcParams.update({\n",
        "    'font.family': 'Times New Roman',\n",
        "    'font.size': 18,\n",
        "    'figure.figsize': (12, 5),\n",
        "    'axes.grid' : True, 'axes.grid.axis': 'y'\n",
        "})"
      ]
    },
    {
      "cell_type": "code",
      "source": [
        "plt.figure(figsize=(16, 9))\n",
        "\n",
        "start = -200\n",
        "end = -100\n",
        "forprint_test = test_target[start:end]\n",
        "# forprint_pred_ensemble = averaged[start:end]\n",
        "\n",
        "# forprint_pred_lstm = single_ret[0][start:end]\n",
        "# forprint_pred_cnn = single_ret[1][start:end]\n",
        "# forprint_pred_gru = single_ret[2][start:end]\n",
        "# forprint_pred_mlp = single_ret[3][start:end]\n",
        "\n",
        "\n",
        "#pd.DataFrame({'Real':test_label,'Predicted':pred}).plot()\n",
        "plt.plot(forprint_test,label='Actual')\n",
        "# plt.plot(forprint_pred_ensemble, label='Ensemble LSTM (Ours)')\n",
        "# plt.plot(forprint_pred_lstm, label='LSTM')\n",
        "# plt.plot(forprint_pred_cnn, label='CNN + LSTM')\n",
        "# plt.plot(forprint_pred_gru, label='GRU')\n",
        "# plt.plot(forprint_pred_mlp, label='MLP')\n",
        "# plt.plot(forprint_pred_lstm, label='LSTM')\n",
        "# plt.plot(forprint_pred_cnn, label='LSTM + CNN')\n",
        "# plt.plot(forprint_pred_gru, label='GRU')\n",
        "# plt.plot(forprint_pred_mlp, label='MLP')\n",
        "#plt.xticks(np.arange(0, 168, 24), labels=['2021-02-05', '2021-02-06', '2021-02-07', '2021-02-08', '2020-02-09', '2021-02-10', '2021-02-11', '2021-02-12'])\n",
        "plt.legend()\n",
        "plt.show()"
      ],
      "metadata": {
        "id": "LyoWroupFla4",
        "outputId": "83c16c07-2c55-420e-c72e-77041e103884",
        "colab": {
          "base_uri": "https://localhost:8080/",
          "height": 545
        }
      },
      "execution_count": null,
      "outputs": [
        {
          "output_type": "display_data",
          "data": {
            "image/png": "[encoded data removed]",
            "text/plain": [
              "<Figure size 1152x648 with 1 Axes>"
            ]
          },
          "metadata": {
            "needs_background": "light"
          }
        }
      ]
    },
    {
      "cell_type": "code",
      "execution_count": null,
      "metadata": {
        "id": "Dkdnxxouqi1o",
        "colab": {
          "base_uri": "https://localhost:8080/",
          "height": 563
        },
        "outputId": "19fcd42e-e2c6-43c6-ee78-1663744838a0"
      },
      "outputs": [
        {
          "output_type": "stream",
          "name": "stderr",
          "text": [
            "findfont: Font family ['Times New Roman'] not found. Falling back to DejaVu Sans.\n"
          ]
        },
        {
          "output_type": "display_data",
          "data": {
            "image/png": "[encoded data removed]",
            "text/plain": [
              "<Figure size 1152x648 with 1 Axes>"
            ]
          },
          "metadata": {
            "needs_background": "light"
          }
        }
      ],
      "source": [
        "plt.figure(figsize=(16, 9))\n",
        "\n",
        "start = -200\n",
        "end = -100\n",
        "forprint_test = test_target[start:end]\n",
        "forprint_pred_ensemble = averaged[start:end]\n",
        "\n",
        "# forprint_pred_lstm = single_ret[0][start:end]\n",
        "# forprint_pred_cnn = single_ret[1][start:end]\n",
        "# forprint_pred_gru = single_ret[2][start:end]\n",
        "# forprint_pred_mlp = single_ret[3][start:end]\n",
        "\n",
        "\n",
        "#pd.DataFrame({'Real':test_label,'Predicted':pred}).plot()\n",
        "plt.plot(forprint_test,label='Actual')\n",
        "plt.plot(forprint_pred_ensemble, label='Ensemble LSTM (Ours)')\n",
        "# plt.plot(forprint_pred_lstm, label='LSTM')\n",
        "# plt.plot(forprint_pred_cnn, label='CNN + LSTM')\n",
        "# plt.plot(forprint_pred_gru, label='GRU')\n",
        "# plt.plot(forprint_pred_mlp, label='MLP')\n",
        "# plt.plot(forprint_pred_lstm, label='LSTM')\n",
        "# plt.plot(forprint_pred_cnn, label='LSTM + CNN')\n",
        "# plt.plot(forprint_pred_gru, label='GRU')\n",
        "# plt.plot(forprint_pred_mlp, label='MLP')\n",
        "#plt.xticks(np.arange(0, 168, 24), labels=['2021-02-05', '2021-02-06', '2021-02-07', '2021-02-08', '2020-02-09', '2021-02-10', '2021-02-11', '2021-02-12'])\n",
        "plt.legend()\n",
        "plt.show()"
      ]
    },
    {
      "cell_type": "code",
      "source": [
        "single_mse, ensemble_mse"
      ],
      "metadata": {
        "id": "_v_jMqbxPngs",
        "colab": {
          "base_uri": "https://localhost:8080/"
        },
        "outputId": "8bf00a81-675f-4c80-aa91-f305f3750520"
      },
      "execution_count": null,
      "outputs": [
        {
          "output_type": "execute_result",
          "data": {
            "text/plain": [
              "([381.15303238149215,\n",
              "  380.3584283148475,\n",
              "  385.0386545881303,\n",
              "  307.84559209016726,\n",
              "  380.3745538220255,\n",
              "  380.6090912673219,\n",
              "  351.8634396872962,\n",
              "  380.7047094199733,\n",
              "  381.10451771561816],\n",
              " [381.15303238149215,\n",
              "  380.7481424275742,\n",
              "  381.83927026029596,\n",
              "  355.93237531460784,\n",
              "  360.3173151185133,\n",
              "  363.4417671875894,\n",
              "  359.41971135348734,\n",
              "  361.79571647623203,\n",
              "  363.76734611934614])"
            ]
          },
          "metadata": {},
          "execution_count": 36
        }
      ]
    },
    {
      "cell_type": "code",
      "execution_count": null,
      "metadata": {
        "id": "z7CmlfhpCeO5",
        "colab": {
          "base_uri": "https://localhost:8080/",
          "height": 427
        },
        "outputId": "1ee5d5fc-eb07-4969-b274-f6f1a2435777"
      },
      "outputs": [
        {
          "output_type": "stream",
          "name": "stderr",
          "text": [
            "findfont: Font family ['Times New Roman'] not found. Falling back to DejaVu Sans.\n"
          ]
        },
        {
          "output_type": "stream",
          "name": "stdout",
          "text": [
            "RMSE Single Learners 369.895 (23.823)\n",
            "RMSE Ensemble Learners 367.602 (9.894)\n"
          ]
        },
        {
          "output_type": "display_data",
          "data": {
            "image/png": "[encoded data removed]",
            "text/plain": [
              "<Figure size 864x360 with 1 Axes>"
            ]
          },
          "metadata": {
            "needs_background": "light"
          }
        }
      ],
      "source": [
        "# plot score vs number of ensemble members\n",
        "print('RMSE Single Learners %.3f (%.3f)' % (mean(single_mse), std(single_mse)))\n",
        "#print('RMSE Cnn_lstm Learners %.3f (%.3f)' % (mean(cnn_mse), std(cnn_mse)))\n",
        "print('RMSE Ensemble Learners %.3f (%.3f)' % (mean(ensemble_mse), std(ensemble_mse)))\n",
        "#print('RMSE GRU Learners %.3f (%.3f)' % (mean(gru_mse), std(gru_mse)))\n",
        "\n",
        "x_axis = [i for i in range(1, n_splits)]\n",
        "pyplot.plot(x_axis, single_mse, marker='o', label='Single Model')\n",
        "#pyplot.plot(x_axis, cnn_mse, marker='o', label='LSTM + CNN')\n",
        "pyplot.plot(x_axis, ensemble_mse, marker='o', label='Ensemble Model (Ours)')\n",
        "#pyplot.plot(x_axis, gru_mse, marker='o', label='GRU')\n",
        "#pyplot.plot(x_axis, gru_mse, marker='o', label='GRU')\n",
        "plt.title(\"Root Mean Squared Error: Single Learner vs Ensemble Learners (Bagging)\")\n",
        "plt.xlabel('Iteration')\n",
        "plt.ylabel('MSE')\n",
        "plt.legend()\n",
        "pyplot.show()"
      ]
    },
    {
      "cell_type": "code",
      "execution_count": null,
      "metadata": {
        "id": "vRjJDOlwBiwH",
        "colab": {
          "base_uri": "https://localhost:8080/",
          "height": 413
        },
        "outputId": "985ea8c9-11da-4f26-b00a-47399c131614"
      },
      "outputs": [
        {
          "output_type": "stream",
          "name": "stdout",
          "text": [
            "\n"
          ]
        },
        {
          "output_type": "display_data",
          "data": {
            "image/png": "[encoded data removed]",
            "text/plain": [
              "<Figure size 720x360 with 1 Axes>"
            ]
          },
          "metadata": {
            "needs_background": "light"
          }
        }
      ],
      "source": [
        "\n",
        "fig, ax = plt.subplots(figsize=(10,5))\n",
        "\n",
        "ax.set_ylabel('RMSE')\n",
        "ax.set_xlabel('SINGLE model vs Ensemble')\n",
        "width = 0.25\n",
        "x_axis = np.arange(1)\n",
        "\n",
        "rects1 = ax.bar(x_axis-width, mean(single_mse), 0.2, label='SINGLE')\n",
        "rects2 = ax.bar(x_axis, mean(ensemble_mse), 0.2, label='Ensemble')\n",
        "#rects3 = ax.bar(x_axis+width, mean(single_gru), 0.2 , label='GRU')\n",
        "\n",
        "\n",
        "\n",
        "ax.set_ylim(150, 400)\n",
        "ax.set_xticks(x_axis)\n",
        "ax.set_xticklabels('-')\n",
        "\n",
        "ax.legend(loc=9, ncol=3, bbox_to_anchor=(0.5, 1.2))\n",
        "\n",
        "\n",
        "\n",
        "print()"
      ]
    },
    {
      "cell_type": "code",
      "execution_count": null,
      "metadata": {
        "id": "MRqWKjcoCeO5"
      },
      "outputs": [],
      "source": [
        "# single_mae, ensemble_mae = list(), list()\n",
        "# for i in range(1, n_splits+1):\n",
        "#     subset = members[:i]\n",
        "#     yhats = [model.predict(X_test) for model in subset]\n",
        "#     yhats = array(yhats)\n",
        "#     averaged = np.average(yhats, axis=0)\n",
        "#     ensemble = mean_absolute_error(test_target,averaged)\n",
        "    \n",
        "#     *_, y1 = [members[i-1].predict(X_test)]\n",
        "#     single =  mean_absolute_error(test_target,y1)\n",
        "#     print('> %d: single=%.3f, ensemble=%.3f' % (i, single, ensemble))\n",
        "#     single_mae.append(single)\n",
        "#     ensemble_mae.append(ensemble)\n",
        "   "
      ]
    },
    {
      "cell_type": "code",
      "execution_count": null,
      "metadata": {
        "id": "zbPxOVt9CeO6"
      },
      "outputs": [],
      "source": [
        "# # plot score vs number of ensemble members\n",
        "# print('MAE Single Learners %.3f (%.3f)' % (mean(single_mae), std(single_mae)))\n",
        "# print('MAE Ensemble Learners %.3f (%.3f)' % (mean(ensemble_mae), std(ensemble_mae)))\n",
        "# x_axis = [i for i in range(1, n_splits+1)]\n",
        "# pyplot.plot(x_axis, single_mae, marker='o', linestyle='None')\n",
        "# pyplot.plot(x_axis, ensemble_mae, marker='o')\n",
        "# plt.title(\"Mean Absolute Error: Single Learner vs Ensemble Learners (Bagging)\")\n",
        "# pyplot.show()"
      ]
    },
    {
      "cell_type": "code",
      "execution_count": null,
      "metadata": {
        "id": "8nnBpMCsCeO6"
      },
      "outputs": [],
      "source": [
        "# single_maxe, ensemble_maxe = list(), list()\n",
        "# for i in range(1, n_splits+1):\n",
        "#     subset = members[:i]\n",
        "#     yhats = [model.predict(X_test) for model in subset]\n",
        "#     yhats = array(yhats)\n",
        "#     averaged = np.average(yhats, axis=0)\n",
        "#     ensemble = max_error(test_target,averaged)\n",
        "    \n",
        "#     *_, y1 = [members[i-1].predict(X_test)]\n",
        "#     single =  max_error(test_target,y1)\n",
        "#     print('> %d: single=%.3f, ensemble=%.3f' % (i, single, ensemble))\n",
        "#     single_maxe.append(single)\n",
        "#     ensemble_maxe.append(ensemble)\n",
        "   "
      ]
    },
    {
      "cell_type": "code",
      "execution_count": null,
      "metadata": {
        "id": "P1TMMHxdCeO6"
      },
      "outputs": [],
      "source": [
        "# # plot score vs number of ensemble members\n",
        "# print('Max Error Single Learners %.3f (%.3f)' % (mean(single_maxe), std(single_maxe)))\n",
        "# print('Max Error Ensemble Learners %.3f (%.3f)' % (mean(ensemble_maxe), std(ensemble_maxe)))\n",
        "# x_axis = [i for i in range(1, n_splits+1)]\n",
        "# pyplot.plot(x_axis, single_maxe, marker='o', linestyle='None')\n",
        "# pyplot.plot(x_axis, ensemble_maxe, marker='o')\n",
        "# plt.title(\"Max Error: Single Learner vs Ensemble Learners (Bagging)\")\n",
        "# pyplot.show()    "
      ]
    },
    {
      "cell_type": "code",
      "execution_count": null,
      "metadata": {
        "id": "UMawdcgg5nRU"
      },
      "outputs": [],
      "source": [
        "# plt.figure(figsize=(16, 9))\n",
        "\n",
        "# forprint_test = averaged[-168:]\n",
        "# forprint_pred = pred[-168:]\n",
        "\n",
        "# #pd.DataFrame({'Real':test_label,'Predicted':pred}).plot()\n",
        "# plt.plot(forprint_test,label='actual')\n",
        "# plt.plot(forprint_pred, label='prediction')\n",
        "\n",
        "# plt.xticks(np.arange(0, 168, 24), labels=['2021-02-05', '2021-02-06', '2021-02-07', '2021-02-08', '2020-02-09', '2021-02-10', '2021-02-11', '2021-02-12'])\n",
        "# plt.legend()\n",
        "# plt.show()"
      ]
    },
    {
      "cell_type": "code",
      "execution_count": null,
      "metadata": {
        "id": "G1bSCTtjCeO6"
      },
      "outputs": [],
      "source": [
        "# single_evs, ensemble_evs = list(), list()\n",
        "# for i in range(1, n_splits+1):\n",
        "#     subset = members[:i]\n",
        "#     yhats = [model.predict(X_test) for model in subset]\n",
        "#     yhats = array(yhats)\n",
        "#     averaged = np.average(yhats, axis=0)\n",
        "#     ensemble = explained_variance_score(test_target,averaged)\n",
        "    \n",
        "#     *_, y1 = [members[i-1].predict(X_test)]\n",
        "#     single =  explained_variance_score(test_target,y1)\n",
        "#     print('> %d: single=%.3f, ensemble=%.3f' % (i, single, ensemble))\n",
        "#     single_evs.append(single)\n",
        "#     ensemble_evs.append(ensemble)\n",
        "   "
      ]
    },
    {
      "cell_type": "code",
      "execution_count": null,
      "metadata": {
        "id": "yoEdezFWCeO7"
      },
      "outputs": [],
      "source": [
        "# plot score vs number of ensemble members\n",
        "# print('Explained Variance Score Single Learners %.3f (%.3f)' % (mean(single_evs), std(single_evs)))\n",
        "# print('Explained Variance Score Ensemble Learners %.3f (%.3f)' % (mean(ensemble_evs), std(ensemble_evs)))\n",
        "# x_axis = [i for i in range(1, n_splits+1)]\n",
        "# pyplot.plot(x_axis, single_evs, marker='o', linestyle='None')\n",
        "# pyplot.plot(x_axis, ensemble_evs, marker='o')\n",
        "# plt.title(\"Explained Variance Score Single Learners: Single Learner vs Ensemble Learners (Bagging)\")\n",
        "# pyplot.show()    "
      ]
    }
  ],
  "metadata": {
    "colab": {
      "collapsed_sections": [],
      "name": "ensemble_cnn-lstm_lstm.ipynb",
      "provenance": []
    },
    "kernelspec": {
      "display_name": "Python 3",
      "language": "python",
      "name": "python3"
    },
    "language_info": {
      "codemirror_mode": {
        "name": "ipython",
        "version": 3
      },
      "file_extension": ".py",
      "mimetype": "text/x-python",
      "name": "python",
      "nbconvert_exporter": "python",
      "pygments_lexer": "ipython3",
      "version": "3.7.6"
    }
  },
  "nbformat": 4,
  "nbformat_minor": 0
}