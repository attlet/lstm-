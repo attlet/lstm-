{
  "nbformat": 4,
  "nbformat_minor": 0,
  "metadata": {
    "colab": {
      "name": "Untitled2.ipynb",
      "private_outputs": true,
      "provenance": [],
      "collapsed_sections": []
    },
    "kernelspec": {
      "name": "python3",
      "display_name": "Python 3"
    },
    "language_info": {
      "name": "python"
    }
  },
  "cells": [
    {
      "cell_type": "code",
      "metadata": {
        "id": "Fn4DlN60mUqT"
      },
      "source": [
        "\n",
        "import pandas as pd\n",
        "import numpy as np\n",
        "import matplotlib.pyplot as plt\n",
        "import seaborn as sns\n",
        "import warnings\n",
        "import os\n",
        "from keras.models import Sequential\n",
        "from keras.layers import Dense\n",
        "from tensorflow.keras.layers import Dropout\n",
        "from keras.callbacks import EarlyStopping, ModelCheckpoint\n",
        "from keras.layers import LSTM\n",
        "from google.colab import drive\n",
        "from sklearn.preprocessing import MinMaxScaler\n",
        "from sklearn.model_selection import train_test_split\n",
        "\n",
        "\n",
        "\n",
        "drive.mount('/content/gdrive')\n",
        "\n",
        "df_price = pd.read_csv(os.path.join('/content/gdrive/My Drive/Colab Notebooks', '발전량예측_경주.csv'), encoding='utf8')\n",
        "df_forecast = pd.read_csv(os.path.join('/content/gdrive/My Drive/Colab Notebooks', '예보데이터_경주.csv'), encoding='cp949')\n",
        "\n",
        "\n"
      ],
      "execution_count": null,
      "outputs": []
    },
    {
      "cell_type": "code",
      "metadata": {
        "id": "Ys8yogkvDEZ0"
      },
      "source": [
        "def make_dataset(data, label, window_size=3):\n",
        "    \n",
        "    feature_list = []\n",
        "    label_list = []\n",
        "  \n",
        "    for i in range(len(data) - window_size):\n",
        "        feature_list.append(np.array(data.iloc[i:i+window_size]))\n",
        "        label_list.append(np.array(label.iloc[i+window_size]))\n",
        "    return np.array(feature_list), np.array(label_list)\n",
        "\n",
        "#설비이용률이 10%이상인 것들만 필터링. 경주 설비용량 1502.22   (발전량/설비용량) * 100 > 10\n",
        "\n",
        "\n",
        "pd.to_datetime(df_price['일자'], format='%Y-%m-%d-%H')\n",
        "pd.to_datetime(df_forecast['일자'], format='%Y-%m-%d-%H')\n",
        "# 0      2020-01-07\n",
        "# 1      2020-01-06\n",
        "# 2      2020-01-03\n",
        "# 3      2020-01-02\n",
        "# 4      2019-12-30\n",
        "\n",
        "df_price['일자'] = pd.to_datetime(df_price['일자'], format='%Y-%m-%d-%H')\n",
        "df_forecast['일자'] = pd.to_datetime(df_forecast['일자'], format='%Y-%m-%d-%H')\n",
        "#df_price['연도'] =df_price['일자'].dt.year\n",
        "#df_price['월'] =df_price['일자'].dt.month\n",
        "#df_price['일'] =df_price['일자'].dt.day\n",
        "#df_price.describe()\n",
        "#df_price = df_price.loc[((df_price['발전량']/1502.22) * 100) >= 10]\n",
        "#df_forecast = df_forecast.loc[((df_forecast['발전량']/1502.22) * 100) >= 10]\n",
        "\n",
        "\n",
        "df_generation = df_price[-50:]   #그래프를 좀 더 효휼적으로 보기 위해 범위를 한정했음.\n",
        "\n",
        "plt.figure(figsize=(16, 9))\n",
        "sns.lineplot(y=df_generation['발전량'], x=df_generation['일자'])\n",
        "plt.xlabel('time')\n",
        "plt.ylabel('power generation')\n",
        "\n",
        "\n"
      ],
      "execution_count": null,
      "outputs": []
    },
    {
      "cell_type": "code",
      "metadata": {
        "id": "VbCc0gjWFTdC"
      },
      "source": [
        "df_price = df_price.sort_index(ascending=True).reset_index(drop=True)"
      ],
      "execution_count": null,
      "outputs": []
    },
    {
      "cell_type": "code",
      "metadata": {
        "id": "3mlqmxMGyrvr"
      },
      "source": [
        "df_forecast = df_forecast.sort_index(ascending=True).reset_index(drop=True)"
      ],
      "execution_count": null,
      "outputs": []
    },
    {
      "cell_type": "code",
      "metadata": {
        "id": "Oe6yiLz9KsPH"
      },
      "source": [
        "df_generation2 = df_forecast[-50:]\n",
        "plt.figure(figsize=(16, 9))\n",
        "sns.lineplot(y=df_generation2['발전량'], x=df_generation2['일자'])\n",
        "plt.xlabel('time')\n",
        "plt.ylabel('power generation')"
      ],
      "execution_count": null,
      "outputs": []
    },
    {
      "cell_type": "code",
      "metadata": {
        "id": "Trm30yKJKi1A"
      },
      "source": [
        "df_forecast"
      ],
      "execution_count": null,
      "outputs": []
    },
    {
      "cell_type": "code",
      "metadata": {
        "id": "6yj7N34yDEd8"
      },
      "source": [
        "from sklearn.preprocessing import MinMaxScaler\n",
        "\n",
        "# df_price.sort_index(ascending=False).reset_index(drop=True)\n",
        "# df_forecast.sort_index(ascending=False).reset_index(drop=True)\n",
        "\n",
        "#scaler = MinMaxScaler()                                #전체 데이터는 0, 1사이의 값을 갖도록 해줍니다.\n",
        "#scale_cols = ['발전량', '기온', '습도', '이슬점온도', '일사량', '전운량']   #일자\t년\t월\t일\t시\t발전량\t기온\t습도\t이슬점온도\t일사량\t전운량\n",
        "#df_scaled = scaler.fit_transform(df_price[scale_cols])\n",
        "#df_scaled = pd.DataFrame(df_scaled)\n",
        "#df_scaled.columns = scale_cols\n",
        "#df_scaled\n",
        "df_price"
      ],
      "execution_count": null,
      "outputs": []
    },
    {
      "cell_type": "code",
      "metadata": {
        "id": "et74BDg7CoEV"
      },
      "source": [
        "#train = df_scaled[:-TEST_SIZE]           #0~ max-200. training data.\n",
        "#test = df_scaled[-TEST_SIZE:]            #max-200 부터 끝까지. 테스트용\n",
        "train = df_price\n",
        "test = df_forecast\n",
        "\n",
        "feature_cols = ['월', '일', '시','기온', '습도', '이슬점온도', '일사량', '전운량']\n",
        "label_cols = ['발전량']\n",
        "\n",
        "train_feature = train[feature_cols]\n",
        "train_label = train[label_cols]\n",
        "\n",
        "test_feature = test[feature_cols]\n",
        "test_label = test[label_cols]\n",
        "\n",
        "#train_example = df_price[-2000:]\n",
        "#train_example_label = train_example[label_cols]    #그래프를 좀 더 잘 볼 수 있도록 범위를 한정함\n",
        "\n",
        "#ax = train_example_label.plot()\n",
        "#test_label.plot(ax=ax)\n",
        "#plt.legend(['train'])"
      ],
      "execution_count": null,
      "outputs": []
    },
    {
      "cell_type": "code",
      "metadata": {
        "id": "wkSkxv9CN810"
      },
      "source": [
        "\n",
        "# train dataset\n",
        "train_feature_array, train_label_array = make_dataset(train_feature, train_label)\n",
        "\n",
        "\n",
        "# train, validation set 생성\n",
        "from sklearn.model_selection import train_test_split\n",
        "x_train, x_valid, y_train, y_valid = train_test_split(train_feature_array, train_label_array, test_size=0.2) #test_size는 테스트 데이터셋의 비율. 디폴트는 0.25\n",
        "\n",
        "\n",
        "test_feature_array, test_label_array = make_dataset(test_feature, test_label)\n",
        "test_feature.shape, test_label.shape"
      ],
      "execution_count": null,
      "outputs": []
    },
    {
      "cell_type": "code",
      "metadata": {
        "id": "9q1z5_HQN83y"
      },
      "source": [
        "\n",
        "model = Sequential()\n",
        "model.add(LSTM(64, \n",
        "               input_shape=(train_feature_array.shape[1], train_feature_array.shape[2]),  #timestep과 feature\n",
        "               activation='relu', \n",
        "               return_sequences=False)\n",
        "          )\n",
        "#model.add(Dropout(0.2)) #드롭아웃 추가해봣음.,..\n",
        "model.add(Dense(1))   #Dense = 전결합층(fully-conntected layer)을 추가. 예측하고자 하는 target의 개수가 하나\n",
        "\n",
        "model.compile(loss='mean_squared_error', optimizer='adam')   #모델 학습과정 설정.  optimizer : 훈련 과정 설정.  loss : 최적화 과정에서 최소화될 손실 함수(loss function) 설정\n",
        "                                                             # optimizer 는 일반적으로 adam 사용"
      ],
      "execution_count": null,
      "outputs": []
    },
    {
      "cell_type": "code",
      "metadata": {
        "id": "yCUhgJPTN9NT"
      },
      "source": [
        "early_stop = EarlyStopping(monitor='val_loss', patience=20)   #epoch 을 정하는데 많이 사용되는 Earlystopping 은 무조건 Epoch 을 많이 돌린 후, 특정 시점에서 멈추는 것이다. \n",
        "                                                              # 10회 Epoch동안 개선되지 않는다면 종료\n",
        "\n",
        "filename = os.path.join('/content/gdrive/My Drive/Colab Notebooks', 'generation_checkpoint.h5')  "
      ],
      "execution_count": null,
      "outputs": []
    },
    {
      "cell_type": "code",
      "metadata": {
        "id": "NYRO0xrrN9RC"
      },
      "source": [
        "checkpoint = ModelCheckpoint(filename,        #모델이 학습하면서 정의한 조건을 만족했을 때 Model의 weight 값을 중간 저장해 줌\n",
        "                             monitor='val_loss',                    # val_loss 값이 개선되었을때 호출\n",
        "                             verbose=1,                             # 로그를 출력합니다\n",
        "                             save_best_only=True,                   # 가장 best 값만 저장합니다\n",
        "                             mode='auto')                          "
      ],
      "execution_count": null,
      "outputs": []
    },
    {
      "cell_type": "code",
      "metadata": {
        "id": "gDuunWgvO_0s"
      },
      "source": [
        "# history = model.fit(x_train, y_train,      #fit 메소드를 통해서 훈련\n",
        "#                     epochs=250,            #에포크. 한 에포크는 전체 입력 데이터를 한번 순회하는 것\n",
        "#                     batch_size=32,\n",
        "#                     validation_data=(x_valid, y_valid), \n",
        "#                    )                    \n",
        "   \n",
        "history = model.fit(x_train, y_train,      \n",
        "                    epochs=250,           \n",
        "                    batch_size=32,\n",
        "                    validation_data=(x_valid, y_valid), \n",
        "                    callbacks=[early_stop, checkpoint]) #개선되지 않는 학습에 대한 조기 종료를 실행하고, ModelCheckpoint로 부터 가장 best model을 다시 로드하여 학습을 재게할 수 있음.\n"
      ],
      "execution_count": null,
      "outputs": []
    },
    {
      "cell_type": "code",
      "metadata": {
        "id": "T6gzwRsZO_2a"
      },
      "source": [
        "from sklearn.metrics import mean_squared_error\n",
        "#model.load_weights(filename)\n",
        "\n",
        "# 예측\n",
        "pred = model.predict(test_feature_array)\n",
        "\n",
        "pred.shape\n",
        "rmse = mean_squared_error(test_label_array , pred, squared=False)\n",
        "rmse"
      ],
      "execution_count": null,
      "outputs": []
    },
    {
      "cell_type": "code",
      "metadata": {
        "id": "ovdc1p0i_Zmq"
      },
      "source": [
        "df_forecast = df_forecast.drop(index = [0,1,2,3,4], axis=0)\n",
        "df_forecast = df_forecast.sort_index(ascending=True).reset_index(drop=True)\n",
        "#예측오차율 = (abs(예측발전량 - 실제발전량) / 설비용량) * 100\n",
        "df_forecast['예측발전량'] = pd.DataFrame(pred)\n",
        "df_forecast['예측오차율'] = (abs(df_forecast['예측발전량'] - df_forecast['발전량']) / 1502.22  ) * 100\n",
        "#df_price['예측오차율'] = df_forecast['예측발전량','발전량']\n"
      ],
      "execution_count": null,
      "outputs": []
    },
    {
      "cell_type": "code",
      "metadata": {
        "id": "Mc_sbMrHR-i3"
      },
      "source": [
        "pd.DataFrame(pred)"
      ],
      "execution_count": null,
      "outputs": []
    },
    {
      "cell_type": "code",
      "metadata": {
        "id": "Ir9kl30DKQl4"
      },
      "source": [
        "df_forecast = df_forecast.dropna()\n"
      ],
      "execution_count": null,
      "outputs": []
    },
    {
      "cell_type": "code",
      "metadata": {
        "id": "5raK6ba4Xvxx"
      },
      "source": [
        "\n",
        "mean_error = df_forecast['예측오차율'].mean()\n",
        "mean_error\n"
      ],
      "execution_count": null,
      "outputs": []
    },
    {
      "cell_type": "code",
      "metadata": {
        "id": "J5PP27IZCPcC"
      },
      "source": [
        "df_forecast[:50]\n"
      ],
      "execution_count": null,
      "outputs": []
    },
    {
      "cell_type": "code",
      "metadata": {
        "id": "prrYA5niO_4C"
      },
      "source": [
        "\n",
        "\n",
        "plt.figure(figsize=(16, 9))\n",
        "\n",
        "forprint_test = test_label_array[-168:]\n",
        "forprint_pred = pred[-168:]\n",
        "\n",
        "#pd.DataFrame({'Real':test_label,'Predicted':pred}).plot()\n",
        "plt.plot(forprint_test,label='actual')\n",
        "plt.plot(forprint_pred, label='prediction')\n",
        "\n",
        "plt.xticks(np.arange(0, 168, 24), labels=['2021-02-05', '2021-02-06', '2021-02-07', '2021-02-08', '2020-02-09', '2021-02-10', '2021-02-11', '2021-02-12'])\n",
        "plt.legend()\n",
        "plt.show()"
      ],
      "execution_count": null,
      "outputs": []
    },
    {
      "cell_type": "code",
      "metadata": {
        "id": "gD8CiSf3N9TC"
      },
      "source": [
        ""
      ],
      "execution_count": null,
      "outputs": []
    }
  ]
}